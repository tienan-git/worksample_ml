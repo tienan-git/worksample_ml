{
  "nbformat": 4,
  "nbformat_minor": 0,
  "metadata": {
    "colab": {
      "name": "2_example_answer.ipynb",
      "provenance": [],
      "authorship_tag": "ABX9TyN0C/If3MzvFkMrWB7ycYty",
      "include_colab_link": true
    },
    "kernelspec": {
      "name": "python3",
      "display_name": "Python 3"
    }
  },
  "cells": [
    {
      "cell_type": "markdown",
      "metadata": {
        "id": "view-in-github",
        "colab_type": "text"
      },
      "source": [
        "<a href=\"https://colab.research.google.com/github/tienan-git/worksample_ml/blob/master/2_example_answer.ipynb\" target=\"_parent\"><img src=\"https://colab.research.google.com/assets/colab-badge.svg\" alt=\"Open In Colab\"/></a>"
      ]
    },
    {
      "cell_type": "markdown",
      "metadata": {
        "id": "PBVX-4awKmVj",
        "colab_type": "text"
      },
      "source": [
        "# Python入門課題 Pythonを使ってみよう（機械学習コースワークサンプル用）\n",
        "\n",
        "------------\n",
        "## このテキストについて\n",
        "\n",
        "### テキストの目的\n",
        "\n",
        "- 基礎的なプログラミング力を確認する\n",
        "- プログラミングを何らかしらの問題に対して適用してみる\n",
        "- 随時調査しながら進められるようにする\n",
        "\n",
        "### どのように学ぶか\n",
        "\n",
        "DIVERのPython入門テキストで得たことを生かし、問題を解いていってください。新しいことも登場するので、調査しながら進めていくことになります。\n",
        "\n",
        "------------\n",
        "\n",
        "## 紙を折る\n",
        "\n",
        "紙を折り続けると厚さが増していき、43回で月に届くという話があります。しかし、実際には10回も折ることができません。また、手計算も大変です。\n",
        "\n",
        "そこで今回の課題では **1枚の紙を43回折り曲げた時の厚さを計算するプログラム** を作成します。\n",
        "\n",
        "43回折った紙の厚さ $t_{43}$ は、折る前の紙の厚さ $t_{0}$ を使い以下の数式で求まります。\n",
        "\n",
        "$$\n",
        "t_{43} = t_{0}×2^{43}\n",
        "$$\n",
        "\n",
        "折る前の紙の厚さ $t_{0}$ は**0.00008m**とします。一般的なコピー用紙の厚さです。\n",
        "\n",
        "## 2つの方法による厚さの計算\n",
        "\n",
        "プログラミングでは同じ動作を様々な方法で記述することができます。今回は以下の2つを作成してください。\n",
        "\n",
        "- べき乗の算術演算子を使用\n",
        "- for文を使用\n",
        "\n",
        "### 【問題1】べき乗の算術演算子を使用して作成\n",
        "\n",
        "べき乗の算術演算子を使用したプログラムを作ってください。  \n",
        "雛形として紙を1回折った時の厚さを計算するコードを用意しました。これを43回折った時のコードに書き換えてください。\n",
        "\n",
        "**雛形**\n",
        "\n",
        "```py\n",
        "\"\"\"\n",
        "紙を1回折った時の厚さを計算するコード\n",
        "\"\"\"\n",
        "\n",
        "THICKNESS = 0.00008\n",
        "\n",
        "folded_thickness = THICKNESS*2\n",
        "\n",
        "print(\"厚さ： {}メートル\".format(folded_thickness))\n",
        "```\n"
      ]
    },
    {
      "cell_type": "code",
      "metadata": {
        "id": "Px9FD6lXL5o5",
        "colab_type": "code",
        "colab": {
          "base_uri": "https://localhost:8080/",
          "height": 34
        },
        "outputId": "782f02ab-ab7f-42c1-c706-278155511866"
      },
      "source": [
        "\"\"\"\n",
        "紙を43回折った時の厚さを計算するコード\n",
        "\"\"\"\n",
        " \n",
        "THICKNESS = 0.00008\n",
        " \n",
        "folded_thickness = THICKNESS * 2**43\n",
        " \n",
        "print(\"厚さ： {}メートル\".format(folded_thickness))"
      ],
      "execution_count": 2,
      "outputs": [
        {
          "output_type": "stream",
          "text": [
            "厚さ： 703687441.77664メートル\n"
          ],
          "name": "stdout"
        }
      ]
    },
    {
      "cell_type": "markdown",
      "metadata": {
        "id": "LfWCMewiMysD",
        "colab_type": "text"
      },
      "source": [
        "### 【問題2】単位の変換\n",
        "\n",
        "単位がメートルだと実感が湧きづらいので、**◯◯万キロメートル** に変換して表示させてください。\n",
        "\n",
        "サンプルとして **◯◯キロメートル** に変換したコードを用意したので、参考にして取り組んでください。小数点以下は2桁まで表示されるようにも指定しています。\n",
        "\n",
        "**サンプルコード**\n",
        "\n",
        "```py\n",
        "# メートルをキロメートルに変換して小数点以下2桁で表示する\n",
        "print(\"厚さ： {:.2f}キロメートル\".format(folded_thickness/1000))\n",
        "```\n",
        "\n",
        "「月までの距離」を検索して、折った紙が月に届くかどうか確認してみましょう。"
      ]
    },
    {
      "cell_type": "code",
      "metadata": {
        "id": "zAzwN6y9M3Ez",
        "colab_type": "code",
        "colab": {
          "base_uri": "https://localhost:8080/",
          "height": 34
        },
        "outputId": "4f671099-1e66-4284-88bf-c1006765cb54"
      },
      "source": [
        "# メートルを万キロメートルに変換して小数点以下2桁で表示する\n",
        "print(\"厚さ： {:.2f} 万キロメートル\".format(folded_thickness/1000/10000))"
      ],
      "execution_count": 3,
      "outputs": [
        {
          "output_type": "stream",
          "text": [
            "厚さ： 70.37 万キロメートル\n"
          ],
          "name": "stdout"
        }
      ]
    },
    {
      "cell_type": "markdown",
      "metadata": {
        "id": "ZUyThQcyPGOt",
        "colab_type": "text"
      },
      "source": [
        "### 【問題3】for文を使用して作成\n",
        "\n",
        "次に、for文を使用したプログラムを作ってください。\n",
        "\n",
        "べき乗の算術演算子は使ってはいけません。算術演算子は四則演算（`+`、`-`、`*`、`/`）のみ使えます。\n",
        "\n",
        "**ヒント**\n",
        "\n",
        "べき乗は以下のように掛け算の繰り返しに置き換えることができます。\n",
        "\n",
        "$2^3=2×2×2\\\\\n",
        "2^5=2×2×2×2×2$"
      ]
    },
    {
      "cell_type": "code",
      "metadata": {
        "id": "1lk2bSINPTya",
        "colab_type": "code",
        "colab": {
          "base_uri": "https://localhost:8080/",
          "height": 34
        },
        "outputId": "ba3043f3-fcc5-4768-9022-c7dd3f0ed835"
      },
      "source": [
        "folded_thickness = THICKNESS\n",
        "for i in range(43):\n",
        "  folded_thickness *= 2\n",
        "\n",
        "# メートルを万キロメートルに変換して小数点以下2桁で表示する\n",
        "print(\"厚さ： {:.2f} 万キロメートル\".format(folded_thickness/1000/10000))"
      ],
      "execution_count": 4,
      "outputs": [
        {
          "output_type": "stream",
          "text": [
            "厚さ： 70.37 万キロメートル\n"
          ],
          "name": "stdout"
        }
      ]
    },
    {
      "cell_type": "markdown",
      "metadata": {
        "id": "_HFrTj9KQ0gi",
        "colab_type": "text"
      },
      "source": [
        "### 【問題4】計算時間の比較\n",
        "\n",
        "2つの方法はどちらが正しいわけでもありませんが、コードの良さを評価する際には以下のような着目点があります。\n",
        "\n",
        "- 計算速度\n",
        "- メモリの使用量\n",
        "- 可読性\n",
        "- 拡張性\n",
        "- 再利用性\n",
        "\n",
        "今回は計算速度を比較してみます。以下の雛形を使用して、2つの方法の計算時間を出力してください。そして、それぞれの計算時間の関係を簡単に説明してください。どちらの書き方が良さそうでしょうか。\n",
        "\n",
        "**雛形**\n",
        "\n",
        "```py\n",
        "import time\n",
        "start = time.time()\n",
        "#####\n",
        "# ここに上で書いたコードを貼り付ける\n",
        "#####\n",
        "elapsed_time = time.time() - start\n",
        "print(\"time : {}[s]\".format(elapsed_time))\n",
        "```"
      ]
    },
    {
      "cell_type": "code",
      "metadata": {
        "id": "t8o0YN8xR2ed",
        "colab_type": "code",
        "colab": {
          "base_uri": "https://localhost:8080/",
          "height": 51
        },
        "outputId": "b9791d30-5c96-441a-8eef-3789cbae97ff"
      },
      "source": [
        "import time\n",
        "\n",
        "# 【問題1】べき乗の算術演算子を使用して作成\n",
        "\n",
        "start = time.time()\n",
        "#####\n",
        "# ここに上で書いたコードを貼り付ける\n",
        "folded_thickness = THICKNESS * 2**43\n",
        "#####\n",
        "elapsed_time = time.time() - start\n",
        "print(\"time : {}[s]\".format(elapsed_time))\n",
        "\n",
        "\n",
        "# 【問題3】for文を使用して作成\n",
        "start = time.time()\n",
        "#####\n",
        "# ここに上で書いたコードを貼り付ける\n",
        "folded_thickness = THICKNESS\n",
        "for i in range(43):\n",
        "  folded_thickness *= 2\n",
        "#####\n",
        "elapsed_time = time.time() - start\n",
        "print(\"time : {}[s]\".format(elapsed_time))"
      ],
      "execution_count": 5,
      "outputs": [
        {
          "output_type": "stream",
          "text": [
            "time : 3.814697265625e-05[s]\n",
            "time : 5.459785461425781e-05[s]\n"
          ],
          "name": "stdout"
        }
      ]
    },
    {
      "cell_type": "markdown",
      "metadata": {
        "id": "zmmzxKvQTAee",
        "colab_type": "text"
      },
      "source": [
        "## 過程の可視化\n",
        "\n",
        "折り曲げた時の厚さを毎回記録しておき、それを折れ線グラフで可視化してみます。\n",
        "\n",
        "数式を一般化し、n回折った紙の厚さ $t_{n}$ は以下のように表せます。\n",
        "\n",
        "$$\n",
        "t_{n} = t_{0}×2^{n}\n",
        "$$\n",
        "\n",
        "これは指数関数です。指数関数は値が急激に増加する性質があります。厚さが急激に増えて月に到達する様子をグラフで見てみましょう。\n",
        "\n",
        "### 【問題5】リストへの保存\n",
        "\n",
        "ここまでは43回折った後の最後の値だけを使用していましたが、グラフで可視化するためには過程の値も必要です。for文を使用したコードに、過程の値合計44個を記録するコードを加えてください。\n",
        "\n",
        "**ヒント**\n",
        "\n",
        "- 空のリストを作成する。\n",
        "- 折る前の値をリストに追加する。\n",
        "- for文の中でn回折った時の値をリストに追加していく。\n",
        "\n",
        "最終的にリストに44個の値が格納されていることをlen関数を用いて確認しておきましょう。"
      ]
    },
    {
      "cell_type": "code",
      "metadata": {
        "id": "Thh2t50yTUBx",
        "colab_type": "code",
        "colab": {
          "base_uri": "https://localhost:8080/",
          "height": 34
        },
        "outputId": "1a1ab174-4b21-498a-a3e5-5ae721c94b53"
      },
      "source": [
        "folded_thickness_list = []\n",
        "current_thickness = THICKNESS\n",
        "for i in range(44):\n",
        "  folded_thickness_list.append(current_thickness)\n",
        "  current_thickness *= 2\n",
        "\n",
        "print(\"len of folded_thickness_list : {}\".format(len(folded_thickness_list)))\n",
        "# print(\"folded_thickness_list[0] : {}\".format(folded_thickness_list[0]))\n",
        "# print(\"folded_thickness_list[43] : {}\".format(folded_thickness_list[43]))"
      ],
      "execution_count": 6,
      "outputs": [
        {
          "output_type": "stream",
          "text": [
            "len of folded_thickness_list : 44\n"
          ],
          "name": "stdout"
        }
      ]
    },
    {
      "cell_type": "markdown",
      "metadata": {
        "id": "wZ-a1wJEU9Kt",
        "colab_type": "text"
      },
      "source": [
        "### 【問題6】折れ線グラフの表示\n",
        "\n",
        "グラフの描画には **Matplotlib** という **ライブラリ** を用います。リストへ記録するコードの後ろで以下の雛形を使用してください。\n",
        "\n",
        "**雛形**\n",
        "\n",
        "```py\n",
        "\"\"\"\n",
        "グラフを表示する。タイトルと軸ラベル名付き。\n",
        "\"\"\"\n",
        "import matplotlib.pyplot as plt\n",
        "%matplotlib inline\n",
        "\n",
        "plt.title(\"thickness of folded paper\")\n",
        "plt.xlabel(\"number of folds\")\n",
        "plt.ylabel(\"thickness[m]\")\n",
        "plt.plot(リスト名) # 「リスト名」のところにリストの変数名を入れる\n",
        "```\n",
        "\n",
        "グラフを表示させた場合はそれに対する考察が重要です。厚さがどのように変化しているかを簡単に説明してください。"
      ]
    },
    {
      "cell_type": "code",
      "metadata": {
        "id": "48RIUkgmVLOV",
        "colab_type": "code",
        "colab": {
          "base_uri": "https://localhost:8080/",
          "height": 312
        },
        "outputId": "44b905e0-ad56-4df6-887b-fa7b3d4599b4"
      },
      "source": [
        "\"\"\"\n",
        "グラフを表示する。タイトルと軸ラベル名付き。\n",
        "\"\"\"\n",
        "import matplotlib.pyplot as plt\n",
        "%matplotlib inline\n",
        " \n",
        "plt.title(\"thickness of folded paper\")\n",
        "plt.xlabel(\"number of folds\")\n",
        "plt.ylabel(\"thickness[m]\")\n",
        "plt.plot(folded_thickness_list) # 「リスト名」のところにリストの変数名を入れる"
      ],
      "execution_count": 7,
      "outputs": [
        {
          "output_type": "execute_result",
          "data": {
            "text/plain": [
              "[<matplotlib.lines.Line2D at 0x7f52c7691518>]"
            ]
          },
          "metadata": {
            "tags": []
          },
          "execution_count": 7
        },
        {
          "output_type": "display_data",
          "data": {
            "image/png": "[encoded data removed]",
            "text/plain": [
              "<Figure size 432x288 with 1 Axes>"
            ]
          },
          "metadata": {
            "tags": [],
            "needs_background": "light"
          }
        }
      ]
    },
    {
      "cell_type": "markdown",
      "metadata": {
        "id": "_5QbY7bMX99Y",
        "colab_type": "text"
      },
      "source": [
        ""
      ]
    },
    {
      "cell_type": "markdown",
      "metadata": {
        "id": "Z4crVtEoX-kS",
        "colab_type": "text"
      },
      "source": [
        "折り曲げた回数が40近く超えた場合、回数の増加につれ、厚さが急激に増加する。"
      ]
    },
    {
      "cell_type": "markdown",
      "metadata": {
        "id": "PPOyU-iqZItW",
        "colab_type": "text"
      },
      "source": [
        "### 【問題7】グラフのカスタマイズ\n",
        "\n",
        "グラフをより見やすくカスタマイズしてみましょう。カスタマイズしたグラフを最低3種類作成してください。例えば以下のように書き換えることで、線の色を赤に変更できます。\n",
        "\n",
        "**サンプルコード**\n",
        "\n",
        "```py\n",
        "\"\"\"\n",
        "赤い折れ線グラフを表示する。\n",
        "\"\"\"\n",
        "plt.title(\"thickness of folded paper\")\n",
        "plt.xlabel(\"number of folds\")\n",
        "plt.ylabel(\"thickness[m]\")\n",
        "plt.plot(リスト名, color='red')\n",
        "```\n",
        "\n",
        "どのようなことができるかはMatplotlibの公式ドキュメントを参考にします。\n",
        "\n",
        "[matplotlib.pyplot.plot — Matplotlib 3.0.2 documentation](https://matplotlib.org/api/_as_gen/matplotlib.pyplot.plot.html)\n",
        "\n",
        "**カスタマイズ例**\n",
        "\n",
        "- 線の色を青と赤以外にする。\n",
        "- 線を太くする。\n",
        "- 線を点線にする。\n",
        "- 値のフォントサイズを変更する。\n",
        "\n",
        "上記のページに載っていないカスタマイズも可能です。\n",
        "\n",
        "**サンプルコード**\n",
        "\n",
        "```py\n",
        "\"\"\"\n",
        "軸の値を大きく表示する。\n",
        "\"\"\"\n",
        "plt.title(\"thickness of folded paper\")\n",
        "plt.xlabel(\"number of folds\")\n",
        "plt.ylabel(\"thickness[m]\")\n",
        "plt.tick_params(labelsize=20) # 軸の値に関する設定を行う\n",
        "plt.plot(リスト名)\n",
        "```\n",
        "\n",
        "この`plt.tick_params()`に関しては以下のページで説明されています。\n",
        "\n",
        "[matplotlib.pyplot.tick_params — Matplotlib 2.1.1 documentation](https://matplotlib.org/2.1.1/api/_as_gen/matplotlib.pyplot.tick_params.html)\n",
        "\n",
        "様々なカスタマイズ方法を調べて見やすいグラフを作成しましょう。\n",
        "\n",
        "この課題への回答を分かりやすく綺麗なものにまとめられたら完成です。\n"
      ]
    },
    {
      "cell_type": "code",
      "metadata": {
        "id": "SVu4_aKJZwhD",
        "colab_type": "code",
        "colab": {
          "base_uri": "https://localhost:8080/",
          "height": 312
        },
        "outputId": "f6b6ec14-64d4-4884-fd07-4438c9a7f538"
      },
      "source": [
        "\"\"\"\n",
        "赤い折れ線グラフを表示する。\n",
        "\"\"\"\n",
        "plt.title(\"thickness of folded paper\")\n",
        "plt.xlabel(\"number of folds\")\n",
        "plt.ylabel(\"thickness[m]\")\n",
        "plt.plot(folded_thickness_list, color='red')"
      ],
      "execution_count": 8,
      "outputs": [
        {
          "output_type": "execute_result",
          "data": {
            "text/plain": [
              "[<matplotlib.lines.Line2D at 0x7f52c7691438>]"
            ]
          },
          "metadata": {
            "tags": []
          },
          "execution_count": 8
        },
        {
          "output_type": "display_data",
          "data": {
            "image/png": "[encoded data removed]",
            "text/plain": [
              "<Figure size 432x288 with 1 Axes>"
            ]
          },
          "metadata": {
            "tags": [],
            "needs_background": "light"
          }
        }
      ]
    },
    {
      "cell_type": "code",
      "metadata": {
        "id": "tlVJhQ4EaiDH",
        "colab_type": "code",
        "colab": {
          "base_uri": "https://localhost:8080/",
          "height": 321
        },
        "outputId": "e07158c7-e26c-4b56-9d65-8c8e3d3aab80"
      },
      "source": [
        "\"\"\"\n",
        "軸の値を大きく表示する。\n",
        "\"\"\"\n",
        "plt.title(\"thickness of folded paper\")\n",
        "plt.xlabel(\"number of folds\")\n",
        "plt.ylabel(\"thickness[m]\")\n",
        "plt.tick_params(labelsize=20) # 軸の値に関する設定を行う\n",
        "plt.plot(folded_thickness_list)"
      ],
      "execution_count": 9,
      "outputs": [
        {
          "output_type": "execute_result",
          "data": {
            "text/plain": [
              "[<matplotlib.lines.Line2D at 0x7f52c710af60>]"
            ]
          },
          "metadata": {
            "tags": []
          },
          "execution_count": 9
        },
        {
          "output_type": "display_data",
          "data": {
            "image/png": "[encoded data removed]",
            "text/plain": [
              "<Figure size 432x288 with 1 Axes>"
            ]
          },
          "metadata": {
            "tags": [],
            "needs_background": "light"
          }
        }
      ]
    },
    {
      "cell_type": "code",
      "metadata": {
        "id": "AeT_Kc_8avjC",
        "colab_type": "code",
        "colab": {
          "base_uri": "https://localhost:8080/",
          "height": 317
        },
        "outputId": "c782746e-3eb0-4839-b054-8277413f19c9"
      },
      "source": [
        "\"\"\"\n",
        "線の色を青と赤以外にする。\n",
        "線を太くする。\n",
        "線を点線にする。\n",
        "値のフォントサイズを変更する。\n",
        "\"\"\"\n",
        "plt.title(\"thickness of folded paper\")\n",
        "plt.xlabel(\"number of folds\")\n",
        "plt.ylabel(\"thickness[m]\")\n",
        "plt.title(\"thickness of folded paper\")\n",
        "plt.xlabel(\"number of folds\")\n",
        "plt.ylabel(\"thickness[m]\")\n",
        "plt.tick_params(labelsize=15) # 軸の値に関する設定を行う\n",
        "plt.plot(folded_thickness_list, color='brown', linewidth=5.0, linestyle=':')"
      ],
      "execution_count": 17,
      "outputs": [
        {
          "output_type": "execute_result",
          "data": {
            "text/plain": [
              "[<matplotlib.lines.Line2D at 0x7f52c6da6ba8>]"
            ]
          },
          "metadata": {
            "tags": []
          },
          "execution_count": 17
        },
        {
          "output_type": "display_data",
          "data": {
            "image/png": "[encoded data removed]",
            "text/plain": [
              "<Figure size 432x288 with 1 Axes>"
            ]
          },
          "metadata": {
            "tags": [],
            "needs_background": "light"
          }
        }
      ]
    }
  ]
}